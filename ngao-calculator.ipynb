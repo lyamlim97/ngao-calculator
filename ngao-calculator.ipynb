{
 "cells": [
  {
   "cell_type": "code",
   "execution_count": 1,
   "metadata": {},
   "outputs": [],
   "source": [
    "# imports\n",
    "import random\n",
    "import itertools"
   ]
  },
  {
   "cell_type": "code",
   "execution_count": 2,
   "metadata": {},
   "outputs": [],
   "source": [
    "class Card:\n",
    "    def __init__(self, name, suit):\n",
    "        self.name = name\n",
    "        self.suit = suit\n",
    "\n",
    "    def get_value(self):\n",
    "        if self.name == 'A':\n",
    "            return 1\n",
    "        elif self.name in ['2', '3', '4', '5', '6', '7', '8', '9']:\n",
    "            return int(self.name)\n",
    "        elif self.name == 'T':\n",
    "            return 10\n",
    "        elif self.name == 'J':\n",
    "            return 10\n",
    "        elif self.name == 'Q':\n",
    "            return 10\n",
    "        elif self.name == 'K':\n",
    "            return 10\n",
    "        else:\n",
    "            return -1"
   ]
  },
  {
   "cell_type": "code",
   "execution_count": 3,
   "metadata": {},
   "outputs": [],
   "source": [
    "card1 = Card('9', 's')"
   ]
  },
  {
   "cell_type": "code",
   "execution_count": 4,
   "metadata": {},
   "outputs": [
    {
     "data": {
      "text/plain": [
       "9"
      ]
     },
     "execution_count": 4,
     "metadata": {},
     "output_type": "execute_result"
    }
   ],
   "source": [
    "card1.get_value()"
   ]
  },
  {
   "cell_type": "code",
   "execution_count": 5,
   "metadata": {},
   "outputs": [],
   "source": [
    "# function to generate a deck\n",
    "def generate_deck():\n",
    "    suits = ['s', 'h', 'c', 'd']\n",
    "    name = ['A'] + [str(x) for x in range(2, 10)] + ['T', 'J', 'Q', 'K']\n",
    "    return [Card(n, s) for n in name for s in suits]"
   ]
  },
  {
   "cell_type": "code",
   "execution_count": 6,
   "metadata": {},
   "outputs": [],
   "source": [
    "# function to shuffle deck\n",
    "def shuffle_deck(deck, seed=42):\n",
    "    random.seed(seed)\n",
    "    random.shuffle(deck)"
   ]
  },
  {
   "cell_type": "code",
   "execution_count": 7,
   "metadata": {},
   "outputs": [],
   "source": [
    "deck = generate_deck()"
   ]
  },
  {
   "cell_type": "code",
   "execution_count": 8,
   "metadata": {},
   "outputs": [
    {
     "name": "stdout",
     "output_type": "stream",
     "text": [
      "As\n"
     ]
    }
   ],
   "source": [
    "print(deck[0].name + deck[0].suit)"
   ]
  },
  {
   "cell_type": "code",
   "execution_count": 9,
   "metadata": {},
   "outputs": [],
   "source": [
    "shuffle_deck(deck, 88)"
   ]
  },
  {
   "cell_type": "code",
   "execution_count": 10,
   "metadata": {},
   "outputs": [
    {
     "name": "stdout",
     "output_type": "stream",
     "text": [
      "Ac\n"
     ]
    }
   ],
   "source": [
    "print(deck[0].name + deck[0].suit)"
   ]
  },
  {
   "cell_type": "code",
   "execution_count": 11,
   "metadata": {},
   "outputs": [],
   "source": [
    "# function to get a random hand\n",
    "def get_hand(deck, num_cards=5):\n",
    "    hand = []\n",
    "    if len(deck) >= 5:\n",
    "\n",
    "        for i in range(0, num_cards):\n",
    "            hand.append(deck.pop(0))\n",
    "    return hand"
   ]
  },
  {
   "cell_type": "code",
   "execution_count": 12,
   "metadata": {},
   "outputs": [],
   "source": [
    "hand1 = get_hand(deck, 5)"
   ]
  },
  {
   "cell_type": "code",
   "execution_count": 13,
   "metadata": {},
   "outputs": [
    {
     "name": "stdout",
     "output_type": "stream",
     "text": [
      "[<__main__.Card object at 0x0000013A4B576350>, <__main__.Card object at 0x0000013A4B5776D0>, <__main__.Card object at 0x0000013A4B577760>, <__main__.Card object at 0x0000013A4B577F70>, <__main__.Card object at 0x0000013A4B577F10>]\n"
     ]
    }
   ],
   "source": [
    "print(hand1)"
   ]
  },
  {
   "cell_type": "code",
   "execution_count": 14,
   "metadata": {},
   "outputs": [
    {
     "data": {
      "text/plain": [
       "47"
      ]
     },
     "execution_count": 14,
     "metadata": {},
     "output_type": "execute_result"
    }
   ],
   "source": [
    "len(deck)"
   ]
  },
  {
   "cell_type": "code",
   "execution_count": 15,
   "metadata": {},
   "outputs": [],
   "source": [
    "# function to print all cards of a hand\n",
    "def show_hand(hand):\n",
    "    hand_list = []\n",
    "    length = len(hand)\n",
    "    for i in range(0, length):\n",
    "        hand_list.append(hand[i].name + hand[i].suit)\n",
    "    return hand_list"
   ]
  },
  {
   "cell_type": "code",
   "execution_count": 16,
   "metadata": {},
   "outputs": [
    {
     "data": {
      "text/plain": [
       "['Ac', '5c', '8c', '7s', '9d']"
      ]
     },
     "execution_count": 16,
     "metadata": {},
     "output_type": "execute_result"
    }
   ],
   "source": [
    "show_hand(hand1)"
   ]
  },
  {
   "cell_type": "code",
   "execution_count": 17,
   "metadata": {},
   "outputs": [],
   "source": [
    "# function that takes a hand of any length and returns the game value of the hand\n",
    "def get_numeric(hand):\n",
    "    tot = [card.get_value() for card in hand]\n",
    "    return sum(tot) % 10"
   ]
  },
  {
   "cell_type": "code",
   "execution_count": 18,
   "metadata": {},
   "outputs": [
    {
     "data": {
      "text/plain": [
       "0"
      ]
     },
     "execution_count": 18,
     "metadata": {},
     "output_type": "execute_result"
    }
   ],
   "source": [
    "get_numeric(hand1)"
   ]
  },
  {
   "cell_type": "code",
   "execution_count": 19,
   "metadata": {},
   "outputs": [],
   "source": [
    "# function that takes a 5 card hand and returns (3 card, 2 card) combinations\n",
    "\n",
    "def combination_3_2(hand):\n",
    "    list_3 = [i for i in itertools.combinations(hand, 3)]\n",
    "    list_2 = [i for i in itertools.combinations(hand, 2)]\n",
    "\n",
    "    # reverse the order of one list so that the elements match\n",
    "    list_2.reverse()\n",
    "\n",
    "    # create a final list that containts lists of (3 card, 2 card) lists\n",
    "    hand_combinmation_list = []\n",
    "    if len(list_3) == len(list_2):\n",
    "        for i in range(0, len(list_3)):\n",
    "            list_temp = [list(list_3[i]), list(list_2[i])]\n",
    "            hand_combinmation_list.append(list_temp)\n",
    "    return hand_combinmation_list"
   ]
  },
  {
   "cell_type": "code",
   "execution_count": 20,
   "metadata": {},
   "outputs": [],
   "source": [
    "# function to check if hand combination is game-enabled\n",
    "\n",
    "def check_hand_game_enabled(hand_3_2):\n",
    "    card_3 = hand_3_2[0]\n",
    "    if get_numeric(card_3) == 0:\n",
    "        return True\n",
    "    else:\n",
    "        return False"
   ]
  },
  {
   "cell_type": "code",
   "execution_count": 21,
   "metadata": {},
   "outputs": [],
   "source": [
    "list_hands = combination_3_2(hand1)"
   ]
  },
  {
   "cell_type": "code",
   "execution_count": 22,
   "metadata": {},
   "outputs": [],
   "source": [
    "game_enabled_hands = []\n",
    "for hand_3_2 in list_hands:\n",
    "    game_enabled = check_hand_game_enabled(hand_3_2)\n",
    "    if game_enabled:\n",
    "        game_enabled_hands.append(hand_3_2)"
   ]
  },
  {
   "cell_type": "code",
   "execution_count": 23,
   "metadata": {},
   "outputs": [
    {
     "data": {
      "text/plain": [
       "10"
      ]
     },
     "execution_count": 23,
     "metadata": {},
     "output_type": "execute_result"
    }
   ],
   "source": [
    "len(list_hands)"
   ]
  },
  {
   "cell_type": "code",
   "execution_count": 24,
   "metadata": {},
   "outputs": [
    {
     "data": {
      "text/plain": [
       "1"
      ]
     },
     "execution_count": 24,
     "metadata": {},
     "output_type": "execute_result"
    }
   ],
   "source": [
    "len(game_enabled_hands)"
   ]
  },
  {
   "cell_type": "code",
   "execution_count": 25,
   "metadata": {},
   "outputs": [],
   "source": [
    "# algorithm to determine best hand"
   ]
  }
 ],
 "metadata": {
  "kernelspec": {
   "display_name": "ngao-calculator",
   "language": "python",
   "name": "python3"
  },
  "language_info": {
   "codemirror_mode": {
    "name": "ipython",
    "version": 3
   },
   "file_extension": ".py",
   "mimetype": "text/x-python",
   "name": "python",
   "nbconvert_exporter": "python",
   "pygments_lexer": "ipython3",
   "version": "3.10.9"
  },
  "orig_nbformat": 4,
  "vscode": {
   "interpreter": {
    "hash": "c6652cc08a13a06f7e49c273e2aa0765e333daa7b1a4bf658923e7a3f18de103"
   }
  }
 },
 "nbformat": 4,
 "nbformat_minor": 2
}
